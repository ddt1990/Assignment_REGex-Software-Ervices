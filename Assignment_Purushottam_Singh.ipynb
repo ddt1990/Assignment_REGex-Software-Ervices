{
 "cells": [
  {
   "cell_type": "markdown",
   "id": "3ea03507",
   "metadata": {},
   "source": [
    "# Name : Purushottam Singh, Refereal ID : DIRSS1116"
   ]
  },
  {
   "cell_type": "markdown",
   "id": "b823ca57",
   "metadata": {},
   "source": [
    "# Task 1"
   ]
  },
  {
   "cell_type": "code",
   "execution_count": 76,
   "id": "a77dba67",
   "metadata": {},
   "outputs": [
    {
     "name": "stdout",
     "output_type": "stream",
     "text": [
      "5 5 5 5 5 \r\n",
      "5 5 5 5 \r\n",
      "5 5 5 \r\n",
      "5 5 \r\n",
      "5 \r\n"
     ]
    }
   ],
   "source": [
    "n = 5\n",
    "for i in range(n):\n",
    "    for j in range(n):\n",
    "        print(\"5\", end=\" \")\n",
    "    n=n-1\n",
    "    print(\"\\r\")"
   ]
  },
  {
   "cell_type": "markdown",
   "id": "17f06a7e",
   "metadata": {},
   "source": [
    "# Task 2"
   ]
  },
  {
   "cell_type": "code",
   "execution_count": 50,
   "id": "0e4134d9",
   "metadata": {},
   "outputs": [
    {
     "name": "stdout",
     "output_type": "stream",
     "text": [
      "0 1 2 3 4 \r\n",
      "0 1 2 3 \r\n",
      "0 1 2 \r\n",
      "0 1 \r\n",
      "0 \r\n"
     ]
    }
   ],
   "source": [
    "n=5\n",
    "for i in range(0,n):\n",
    "    for j in range(n):\n",
    "        print(j,end=\" \")\n",
    "    n=n-1\n",
    "    print(\"\\r\")"
   ]
  },
  {
   "cell_type": "markdown",
   "id": "22b7f5f7",
   "metadata": {},
   "source": [
    "# Task 3"
   ]
  },
  {
   "cell_type": "code",
   "execution_count": 51,
   "id": "3c5764c3",
   "metadata": {
    "scrolled": true
   },
   "outputs": [
    {
     "name": "stdout",
     "output_type": "stream",
     "text": [
      "1 \r\n",
      "3 3 \r\n",
      "5 5 5 \r\n",
      "7 7 7 7 \r\n",
      "9 9 9 9 9 \r\n"
     ]
    }
   ],
   "source": [
    "n=5\n",
    "num=1\n",
    "for i in range(n):\n",
    "    for j in range(i+1):\n",
    "         print(num,end=\" \")\n",
    "    num=num+2\n",
    "    print(\"\\r\")\n",
    "    #print(\"done\")"
   ]
  },
  {
   "cell_type": "markdown",
   "id": "df93fa86",
   "metadata": {},
   "source": [
    "# Task 4"
   ]
  },
  {
   "cell_type": "code",
   "execution_count": 17,
   "id": "36d4bde6",
   "metadata": {},
   "outputs": [
    {
     "name": "stdout",
     "output_type": "stream",
     "text": [
      "1 \r\n",
      "2 1 \r\n",
      "3 2 1 \r\n",
      "4 3 2 1 \r\n",
      "5 4 3 2 1 \r\n"
     ]
    }
   ],
   "source": [
    "n=5\n",
    "num=1\n",
    "for i in range(n):\n",
    "    for j in range(i+1):\n",
    "        print(num-j,end=\" \")\n",
    "    num=num+1\n",
    "    print(\"\\r\")"
   ]
  },
  {
   "cell_type": "markdown",
   "id": "1ee78804",
   "metadata": {},
   "source": [
    "# Task 5"
   ]
  },
  {
   "cell_type": "code",
   "execution_count": 15,
   "id": "990a98d2",
   "metadata": {},
   "outputs": [
    {
     "name": "stdout",
     "output_type": "stream",
     "text": [
      "1 \r\n",
      "3 2 \r\n",
      "6 5 4 \r\n",
      "10 9 8 7 \r\n"
     ]
    }
   ],
   "source": [
    "n=4\n",
    "num=1\n",
    "for i in range(n):\n",
    "    for j in range(i+1):\n",
    "        print(num-j,end=\" \")\n",
    "    num=num+(i+2)\n",
    "    print(\"\\r\")"
   ]
  },
  {
   "cell_type": "markdown",
   "id": "cd3598f8",
   "metadata": {},
   "source": [
    "# Task 6"
   ]
  },
  {
   "cell_type": "code",
   "execution_count": 81,
   "id": "238ecb81",
   "metadata": {},
   "outputs": [
    {
     "name": "stdout",
     "output_type": "stream",
     "text": [
      "Number of Iteration: 10\n",
      "1 \n",
      "1 1 \n",
      "1 2 1 \n",
      "1 3 3 1 \n",
      "1 4 6 4 1 \n",
      "1 5 10 10 5 1 \n",
      "1 6 15 20 15 6 1 \n",
      "1 7 21 35 35 21 7 1 \n",
      "1 8 28 56 70 56 28 8 1 \n",
      "1 9 36 84 126 126 84 36 9 1 \n"
     ]
    }
   ],
   "source": [
    "def factorial(n):\n",
    "    num = 1\n",
    "    if n == 0:\n",
    "        return 1\n",
    "    else:\n",
    "        for i in range(2,n+1):\n",
    "            num=num*i\n",
    "        return num\n",
    "    \n",
    "    \n",
    "def coeff(i,j):\n",
    "    a = factorial(i)\n",
    "    b = factorial(j)\n",
    "    c = factorial(i-j)\n",
    "    d = a//(b*c)\n",
    "    return d\n",
    "                       \n",
    "n=int(input(\"Number of Iteration: \"))        \n",
    "for i in range(0,n):\n",
    "    for j in range(0,i+1):\n",
    "        print(coeff(i,j),end=\" \")                 \n",
    "    print(\"\\r\")         "
   ]
  },
  {
   "cell_type": "markdown",
   "id": "df6cbc4e",
   "metadata": {},
   "source": [
    "# Task 7"
   ]
  },
  {
   "cell_type": "code",
   "execution_count": 19,
   "id": "85f0b8ba",
   "metadata": {},
   "outputs": [
    {
     "name": "stdout",
     "output_type": "stream",
     "text": [
      "12345\r\n",
      "22345\r\n",
      "33345\r\n",
      "44445\r\n",
      "55555\r\n"
     ]
    }
   ],
   "source": [
    "n=6\n",
    "for i in range(1,n):\n",
    "    for j in range(1,n):\n",
    "        if i>=j:\n",
    "            print(i,end=\"\")\n",
    "        else:\n",
    "            print(j,end=\"\")\n",
    "    print(\"\\r\")\n"
   ]
  },
  {
   "cell_type": "markdown",
   "id": "d6cfbe2e",
   "metadata": {},
   "source": [
    "# Task 8"
   ]
  },
  {
   "cell_type": "code",
   "execution_count": null,
   "id": "a0970bca",
   "metadata": {},
   "outputs": [],
   "source": [
    "n=8\n",
    "for i in range(1,n):\n",
    "    for j in range(1,i+1):\n",
    "        print(j*i,end=\" \")\n",
    "    print(\"\\r\")"
   ]
  },
  {
   "cell_type": "markdown",
   "id": "9d925c9e",
   "metadata": {},
   "source": [
    "# Task 9"
   ]
  },
  {
   "cell_type": "code",
   "execution_count": 59,
   "id": "ecd39c33",
   "metadata": {},
   "outputs": [
    {
     "name": "stdout",
     "output_type": "stream",
     "text": [
      "* * * * * \r\n",
      " * * * * \r\n",
      "  * * * \r\n",
      "   * * \r\n",
      "    * \r\n"
     ]
    }
   ],
   "source": [
    "n=4\n",
    "for i in range(n,-1,-1):\n",
    "    for k in range(n,i,-1):\n",
    "        print(\" \",end=\"\")\n",
    "    for j in range(i+1):\n",
    "        print(\"*\",end=\" \")\n",
    "    print(\"\\r\")"
   ]
  },
  {
   "cell_type": "markdown",
   "id": "94512823",
   "metadata": {},
   "source": [
    "# Task 10"
   ]
  },
  {
   "cell_type": "code",
   "execution_count": 61,
   "id": "ced2231e",
   "metadata": {},
   "outputs": [
    {
     "name": "stdout",
     "output_type": "stream",
     "text": [
      "     * \r\n",
      "    * * \r\n",
      "   * * * \r\n",
      "  * * * * \r\n",
      " * * * * * \r\n"
     ]
    }
   ],
   "source": [
    "n=5\n",
    "for i in range(0,n):\n",
    "    for k in range(n,i,-1):\n",
    "        print(\" \",end=\"\")\n",
    "    for j in range(i+1):\n",
    "        print(\"*\",end=\" \")\n",
    "    print(\"\\r\")"
   ]
  },
  {
   "cell_type": "markdown",
   "id": "2aefc6d0",
   "metadata": {},
   "source": [
    "# Task 11"
   ]
  },
  {
   "cell_type": "code",
   "execution_count": 25,
   "id": "67120fb4",
   "metadata": {},
   "outputs": [
    {
     "name": "stdout",
     "output_type": "stream",
     "text": [
      "* \r\n",
      "* * \r\n",
      "* * * \r\n",
      "* * * * \r\n",
      "* * * * * \r\n",
      "* * * * * * \r\n",
      "\n",
      "* * * * * * \r\n",
      "* * * * * \r\n",
      "* * * * \r\n",
      "* * * \r\n",
      "* * \r\n",
      "* \r\n"
     ]
    }
   ],
   "source": [
    "def firstTri(n):\n",
    "    for i in range(0,n):\n",
    "        for j in range(i+1):\n",
    "            print(\"*\",end=\" \")\n",
    "        print(\"\\r\")\n",
    "    \n",
    "def secondTri(n):\n",
    "    for i in range(n,0,-1):\n",
    "        for j in range(i):\n",
    "            print(\"*\",end=\" \")\n",
    "        print(\"\\r\")\n",
    "\n",
    "firstTri(6)\n",
    "print()\n",
    "secondTri(6)"
   ]
  },
  {
   "cell_type": "markdown",
   "id": "67f8a3a7",
   "metadata": {},
   "source": [
    "# Task 12"
   ]
  },
  {
   "cell_type": "code",
   "execution_count": 27,
   "id": "2ba5bba8",
   "metadata": {},
   "outputs": [
    {
     "name": "stdout",
     "output_type": "stream",
     "text": [
      "* \r\n",
      "* * \r\n",
      "* * * \r\n",
      "* * * * \r\n",
      "* * * * * \r\n",
      "* * * * \r\n",
      "* * * \r\n",
      "* * \r\n",
      "* \r\n"
     ]
    }
   ],
   "source": [
    "def firstTri(n):\n",
    "    for i in range(0,n):\n",
    "        for j in range(i+1):\n",
    "            print(\"*\",end=\" \")\n",
    "        print(\"\\r\")\n",
    "    \n",
    "def secondTri(n):\n",
    "    for i in range(n,0,-1):\n",
    "        for j in range(i):\n",
    "            print(\"*\",end=\" \")\n",
    "        print(\"\\r\")\n",
    "\n",
    "firstTri(5)\n",
    "secondTri(4)"
   ]
  },
  {
   "cell_type": "markdown",
   "id": "0dd0f91f",
   "metadata": {},
   "source": [
    "# Task 13"
   ]
  },
  {
   "cell_type": "code",
   "execution_count": 78,
   "id": "b5b36cc3",
   "metadata": {},
   "outputs": [
    {
     "name": "stdout",
     "output_type": "stream",
     "text": [
      "          * \r\n",
      "        * * \r\n",
      "      * * * \r\n",
      "    * * * * \r\n",
      "  * * * * * \r\n",
      "* * * * * * \r\n",
      "  * * * * * \r\n",
      "    * * * * \r\n",
      "      * * * \r\n",
      "        * * \r\n",
      "          * \r\n"
     ]
    }
   ],
   "source": [
    "\n",
    "def firstTri(n):\n",
    "    for i in range(0,n):\n",
    "        for k in range(n,i,-1):\n",
    "            print(\" \",end=\" \")\n",
    "        for j in range(i+1):\n",
    "            print(\"*\",end=\" \")\n",
    "        print(\"\\r\")\n",
    "\n",
    "def secondTri(n):\n",
    "    for i in range(n,-1,-1):\n",
    "        for k in range(n,i,-1):\n",
    "            print(\" \",end=\" \")\n",
    "        for j in range(i+1):\n",
    "            print(\"*\",end=\" \")\n",
    "        print(\"\\r\")\n",
    "\n",
    "firstTri(5)\n",
    "secondTri(5)"
   ]
  },
  {
   "cell_type": "markdown",
   "id": "319bfc7a",
   "metadata": {},
   "source": [
    "# Task 14"
   ]
  },
  {
   "cell_type": "code",
   "execution_count": 77,
   "id": "c069cede",
   "metadata": {},
   "outputs": [
    {
     "name": "stdout",
     "output_type": "stream",
     "text": [
      "* * * * * \r\n",
      " * * * * \r\n",
      "  * * * \r\n",
      "   * * \r\n",
      "    * \r\n",
      "    * \r\n",
      "   * * \r\n",
      "  * * * \r\n",
      " * * * * \r\n",
      "* * * * * \r\n"
     ]
    }
   ],
   "source": [
    "def firstTri(n):\n",
    "    for i in range(n,-1,-1):\n",
    "        for k in range(n,i,-1):\n",
    "            print(\" \",end=\"\")\n",
    "        for j in range(i+1):\n",
    "            print(\"*\",end=\" \")\n",
    "        print(\"\\r\")\n",
    "    \n",
    "def secondTri(n):\n",
    "    for i in range(0,n):\n",
    "        for k in range(n-1,i,-1):\n",
    "            print(\" \",end=\"\")\n",
    "        for j in range(i+1):\n",
    "            print(\"*\",end=\" \")\n",
    "        print(\"\\r\")\n",
    "    \n",
    "    \n",
    "firstTri(4)\n",
    "secondTri(5)"
   ]
  },
  {
   "cell_type": "markdown",
   "id": "be82ac8f",
   "metadata": {},
   "source": [
    "# Task 15"
   ]
  }
 ],
 "metadata": {
  "kernelspec": {
   "display_name": "Python 3",
   "language": "python",
   "name": "python3"
  },
  "language_info": {
   "codemirror_mode": {
    "name": "ipython",
    "version": 3
   },
   "file_extension": ".py",
   "mimetype": "text/x-python",
   "name": "python",
   "nbconvert_exporter": "python",
   "pygments_lexer": "ipython3",
   "version": "3.8.8"
  }
 },
 "nbformat": 4,
 "nbformat_minor": 5
}
